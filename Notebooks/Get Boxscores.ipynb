{
 "cells": [
  {
   "cell_type": "code",
   "execution_count": 1,
   "metadata": {
    "collapsed": false
   },
   "outputs": [],
   "source": [
    "from bs4 import BeautifulSoup\n",
    "import urllib.request\n",
    "import csv\n",
    "import pickle\n",
    "from urllib.error import HTTPError\n",
    "from collections import defaultdict\n",
    "import html5lib"
   ]
  },
  {
   "cell_type": "code",
   "execution_count": 18,
   "metadata": {
    "collapsed": false
   },
   "outputs": [],
   "source": [
    "def getSeasonScheduleSoup(address):\n",
    "    try:\n",
    "        with urllib.request.urlopen(address) as url:\n",
    "            s = url.read()\n",
    "            bs = BeautifulSoup(s,\"lxml\")\n",
    "            return bs.findAll('table')[0]\n",
    "    except HTTPError:\n",
    "        return None\n",
    "    return None"
   ]
  },
  {
   "cell_type": "code",
   "execution_count": 19,
   "metadata": {
    "collapsed": false
   },
   "outputs": [],
   "source": [
    "g = getSeasonScheduleSoup(address)"
   ]
  },
  {
   "cell_type": "code",
   "execution_count": 89,
   "metadata": {
    "collapsed": false,
    "scrolled": false
   },
   "outputs": [],
   "source": [
    "\n",
    "def getGameLinksFromYear(year):\n",
    "    \n",
    "    address = 'http://www.basketball-reference.com/leagues/NBA_'+year+'_games-'\n",
    "    months = ['november','december','january','february','march','april','may','june']\n",
    "    links = []\n",
    "    for month in [address+m+'.html' for m in months]:\n",
    "        games = getSeasonScheduleSoup(month)\n",
    "        if not games:\n",
    "            continue\n",
    "        for body in games.findAll('tbody'):\n",
    "            for row in body.findAll('tr'):\n",
    "        #         print(row)\n",
    "        #         print(h)\n",
    "        #         print('\\n')\n",
    "                h = row.findAll('th')\n",
    "                try:\n",
    "                    links.append(h[0]['csk']) # unique identifier for the game played(year,month,day,home team)\n",
    "                except :# in case season does not work\n",
    "                    print('ERROR: ',h)\n",
    "    return links\n",
    "\n",
    "#getGameLinksFromYear('2006')"
   ]
  },
  {
   "cell_type": "code",
   "execution_count": 71,
   "metadata": {
    "collapsed": false
   },
   "outputs": [],
   "source": [
    "def getYearsInRange(st,ed):\n",
    "    \n",
    "    seasons = {}\n",
    "    for year in range(st,ed):\n",
    "        print(year)\n",
    "        seasons[str(year)] = getGameLinksFromYear(str(year))\n",
    "    \n",
    "    \n",
    "    out = open(\"SeasonGames_\"+str(st)+'-'+str(ed)+\".pkl\",\"wb\")\n",
    "    pickle.dump(seasons, out)"
   ]
  },
  {
   "cell_type": "code",
   "execution_count": 92,
   "metadata": {
    "collapsed": false
   },
   "outputs": [],
   "source": [
    "#getYearsInRange(1985,2017)\n"
   ]
  },
  {
   "cell_type": "code",
   "execution_count": 47,
   "metadata": {
    "collapsed": false
   },
   "outputs": [],
   "source": [
    "seasons = pickle.load(open('SeasonGames_1985-2017.pkl','rb'))"
   ]
  },
  {
   "cell_type": "code",
   "execution_count": 142,
   "metadata": {
    "collapsed": false
   },
   "outputs": [],
   "source": [
    "def readBoxScore(game):\n",
    "    address = 'http://www.basketball-reference.com/boxscores/'+game+'.html'\n",
    "    try:\n",
    "        with urllib.request.urlopen(address) as url:\n",
    "            s = url.read()\n",
    "            bs = BeautifulSoup(s,\"lxml\")\n",
    "            #return bs\n",
    "    except HTTPError:\n",
    "        return None\n",
    "    data = []\n",
    "    for t in bs.findAll('table'):\n",
    "    # should go away basic, away advanced,home basic, home advanced\n",
    "        data.append([a.text for a in t.findAll('tr')[-1].find_all('td')])\n",
    "    return data\n"
   ]
  },
  {
   "cell_type": "code",
   "execution_count": 126,
   "metadata": {
    "collapsed": false
   },
   "outputs": [
    {
     "name": "stdout",
     "output_type": "stream",
     "text": [
      "[['240', '32', '78', '.410', '1', '3', '.333', '18', '30', '.600', '13', '25', '38', '15', '11', '0', '17', '31', '83'], ['240', '.455', '.417', '.038', '.385', '31.7', '71.4', '50.0', '46.9', '12.2', '0.0', '15.7', '100.0', '91.7', '110.5'], ['240', '33', '71', '.465', '2', '10', '.200', '32', '43', '.744', '10', '28', '38', '16', '8', '8', '13', '25', '100'], ['240', '.556', '.479', '.141', '.606', '28.6', '68.3', '50.0', '48.5', '8.8', '10.7', '12.6', '100.0', '110.5', '91.7']]\n"
     ]
    }
   ],
   "source": [
    "print(testing)\n",
    "# data = []\n",
    "# for t in testing.findAll('table'):\n",
    "#     # should go away basic, away advanced,home basic, home advanced\n",
    "    \n",
    "#     total = [a.text for a in t.findAll('tr')[-1].find_all('td')]\n",
    "    "
   ]
  },
  {
   "cell_type": "code",
   "execution_count": null,
   "metadata": {
    "collapsed": false
   },
   "outputs": [
    {
     "name": "stdout",
     "output_type": "stream",
     "text": [
      "1997\n",
      "199611010BOS\n",
      "2000\n",
      "199911020CHH\n",
      "1994\n",
      "199311050ATL\n",
      "2005\n"
     ]
    }
   ],
   "source": [
    "results = {s:dict() for s in seasons}\n",
    "errors = []\n",
    "for season in seasons:\n",
    "    print(season)\n",
    "    for game in seasons[season]:\n",
    "        try:\n",
    "            results[season][game] = htmlTable2Pandas(game)\n",
    "        except:\n",
    "            print(game)\n",
    "            errors.append(game)\n",
    "            break\n",
    "            \n",
    "out = open(\"boxScores_1985-2017\",\"wb\")\n",
    "pickle.dump(results, out)"
   ]
  },
  {
   "cell_type": "code",
   "execution_count": 53,
   "metadata": {
    "collapsed": false
   },
   "outputs": [],
   "source": [
    "def htmlTable2Pandas(game):\n",
    "    address = 'http://www.basketball-reference.com/boxscores/'+game+'.html'\n",
    "    try:\n",
    "        with urllib.request.urlopen(address) as url:\n",
    "            s = url.read()\n",
    "            bs = BeautifulSoup(s,\"lxml\")\n",
    "            #return bs\n",
    "    except HTTPError:\n",
    "        return None\n",
    "    frames = []\n",
    "    for t in bs.findAll('table'):\n",
    "        data = []\n",
    "        for row in t.findAll('tr'):\n",
    "            player = ''\n",
    "            try:\n",
    "                player = row.findAll('th')[0]['data-append-csv'] #should be id of player\n",
    "            except: \n",
    "                player = None\n",
    "            if not player:\n",
    "                continue\n",
    "            vals = [player]+[r.text for r in row.findAll('td')]\n",
    "            data.append(vals)\n",
    "        df = pd.DataFrame(data)#columns = ['NAME','MP','FG','FGA','FGP','3P','3PA','3PP','FT','FTA','FTP','ORB','DRB','TRB','AST,STL'])\n",
    "        h,w = df.shape\n",
    "        if h<6 or w<6:\n",
    "            continue\n",
    "        frames.append(df)\n",
    "    # should go away basic, away advanced,home basic, home advanced\n",
    "    if len(frames)!=4:return\n",
    "    frames[0].columns = ['NAME','MP','FG','FGA','FGP','3P','3PA','3PP','FT','FTA','FTP','ORB','DRB','TRB','AST','STL','BLK','TOV','PF','PTS','PM']\n",
    "    frames[2].columns = ['NAME','MP','FG','FGA','FGP','3P','3PA','3PP','FT','FTA','FTP','ORB','DRB','TRB','AST','STL','BLK','TOV','PF','PTS','PM']\n",
    "    \n",
    "    frames[1].columns = ['NAME','MP','TSP','eFGP','3PAr','FTr','ORBP','DRBP','TRBP','ASTP','STLP','BLKP','TOVP','USGP','ORtg','DRtg']\n",
    "    frames[3].columns = ['NAME','MP','TSP','eFGP','3PAr','FTr','ORBP','DRBP','TRBP','ASTP','STLP','BLKP','TOVP','USGP','ORtg','DRtg']\n",
    "    return frames\n",
    "\n"
   ]
  },
  {
   "cell_type": "code",
   "execution_count": 2,
   "metadata": {
    "collapsed": true
   },
   "outputs": [],
   "source": [
    "import pandas as pd"
   ]
  },
  {
   "cell_type": "code",
   "execution_count": 46,
   "metadata": {
    "collapsed": false
   },
   "outputs": [
    {
     "ename": "NameError",
     "evalue": "name 'seasons' is not defined",
     "output_type": "error",
     "traceback": [
      "\u001b[0;31m---------------------------------------------------------------------------\u001b[0m",
      "\u001b[0;31mNameError\u001b[0m                                 Traceback (most recent call last)",
      "\u001b[0;32m<ipython-input-46-3e3ff0930e60>\u001b[0m in \u001b[0;36m<module>\u001b[0;34m()\u001b[0m\n\u001b[0;32m----> 1\u001b[0;31m \u001b[0mseasons\u001b[0m\u001b[0;34m\u001b[0m\u001b[0m\n\u001b[0m",
      "\u001b[0;31mNameError\u001b[0m: name 'seasons' is not defined"
     ]
    }
   ],
   "source": []
  },
  {
   "cell_type": "code",
   "execution_count": null,
   "metadata": {
    "collapsed": false
   },
   "outputs": [],
   "source": [
    "\n"
   ]
  },
  {
   "cell_type": "code",
   "execution_count": null,
   "metadata": {
    "collapsed": false
   },
   "outputs": [],
   "source": []
  },
  {
   "cell_type": "code",
   "execution_count": null,
   "metadata": {
    "collapsed": true
   },
   "outputs": [],
   "source": []
  }
 ],
 "metadata": {
  "anaconda-cloud": {},
  "kernelspec": {
   "display_name": "Python [conda root]",
   "language": "python",
   "name": "conda-root-py"
  },
  "language_info": {
   "codemirror_mode": {
    "name": "ipython",
    "version": 3
   },
   "file_extension": ".py",
   "mimetype": "text/x-python",
   "name": "python",
   "nbconvert_exporter": "python",
   "pygments_lexer": "ipython3",
   "version": "3.5.2"
  }
 },
 "nbformat": 4,
 "nbformat_minor": 1
}
