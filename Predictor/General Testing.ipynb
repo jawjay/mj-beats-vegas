{
 "cells": [
  {
   "cell_type": "code",
   "execution_count": 20,
   "metadata": {
    "collapsed": false
   },
   "outputs": [],
   "source": [
    "# notebook to test functionality as we go\n",
    "import datetime, os\n",
    "import pickle\n",
    "from game_stats import EXP_TRANSFORM\n",
    "from run_model import runner\n",
    "import read_data\n",
    "import evaluator\n",
    "from constant import SEASON_1516_SPLIT\n",
    "import bet_reader\n",
    "import model\n",
    "\n",
    "import numpy\n",
    "import sys\n",
    "\n",
    "max_date = SEASON_1516_SPLIT\n",
    "def get_historical_games(box_scores,max_date=None):\n",
    "    historical_games = read_data.generate_historical_games(box_scores,max_date=max_date)\n",
    "    return historical_games\n",
    "\n",
    "boxscorepath = '../Data/Clean/TeamBoxByYear/results_2015.pkl'\n",
    "bpath = '../Data/Clean/BettingLinesByYearUP/betting_2015_cleaned.pkl'\n",
    "\n",
    "box_scores = read_data.pickle2box_scores(boxscorepath) # create box scores\n",
    "historical_games = get_historical_games(box_scores)\n",
    "historical_games_training_set = get_historical_games(box_scores, max_date=max_date) # need a training set\n",
    "bet_info = bet_reader.transform_old_format(bet_reader.readCleanBets(bpath),box_scores)"
   ]
  },
  {
   "cell_type": "code",
   "execution_count": 6,
   "metadata": {
    "collapsed": false
   },
   "outputs": [],
   "source": [
    "all_stats = read_data.generate_all_stats(box_scores)"
   ]
  },
  {
   "cell_type": "code",
   "execution_count": 18,
   "metadata": {
    "collapsed": false
   },
   "outputs": [
    {
     "name": "stdout",
     "output_type": "stream",
     "text": [
      "FeatureSet(MP=240.0, FG=41.0, FGA=96.0, TP=9.0, TPA=30.0, FT=20.0, FTA=22.0, ORB=21.0, DRB=35.0, TRB=56.0, AST=29.0, STL=8.0, BLK=7.0, TOV=20.0, PF=29.0, PTS=111.0, TSP=0.525, eFGP=0.474, TPAr=0.313, FTr=0.229, ORBP=45.7, DRBP=81.4, TRBP=62.9, ASTP=70.7, STLP=8.0, BLKP=10.8, TOVP=15.9, USGP=100.0, ORtg=110.9, DRtg=94.9)\n",
      "FeatureSet(MP=240.0, FG=43.0, FGA=93.0, TP=9.0, TPA=26.0, FT=17.0, FTA=25.0, ORB=11.0, DRB=36.0, TRB=47.0, AST=26.0, STL=9.0, BLK=4.0, TOV=8.0, PF=24.0, PTS=112.0, TSP=0.538, eFGP=0.511, TPAr=0.28, FTr=0.269, ORBP=22.9, DRBP=75.0, TRBP=49.0, ASTP=60.5, STLP=9.1, BLKP=6.8, TOVP=7.1, USGP=100.0, ORtg=113.6, DRtg=93.3)\n",
      "FeatureSet(MP=240.0, FG=46.0, FGA=84.0, TP=17.0, TPA=30.0, FT=25.0, FTA=35.0, ORB=3.0, DRB=35.0, TRB=38.0, AST=26.0, STL=10.0, BLK=4.0, TOV=10.0, PF=24.0, PTS=134.0, TSP=0.674, eFGP=0.649, TPAr=0.357, FTr=0.417, ORBP=8.6, DRBP=68.6, TRBP=44.2, ASTP=56.5, STLP=9.5, BLKP=5.1, TOVP=9.1, USGP=100.0, ORtg=127.3, DRtg=114.0)\n"
     ]
    }
   ],
   "source": [
    "all_stats['GSW'].stats['total'].orderStats()\n",
    "for s in all_stats['GSW'].stats['total'].ordered_stats[:3]:\n",
    "    a = all_stats['GSW'].stats['total'].stats_by_date[s]\n",
    "    print(a)"
   ]
  },
  {
   "cell_type": "code",
   "execution_count": 52,
   "metadata": {
    "collapsed": false
   },
   "outputs": [],
   "source": [
    "gsw = all_stats['GSW'].stats['total']\n",
    "ntry = numpy.array([gsw.stats_by_date[x] for x in gsw.ordered_stats])[-3:]"
   ]
  },
  {
   "cell_type": "code",
   "execution_count": 53,
   "metadata": {
    "collapsed": false
   },
   "outputs": [
    {
     "data": {
      "text/plain": [
       "array([[  2.40000000e+02,   3.20000000e+01,   8.80000000e+01,\n",
       "          1.40000000e+01,   4.30000000e+01,   1.90000000e+01,\n",
       "          2.60000000e+01,   1.30000000e+01,   3.00000000e+01,\n",
       "          4.30000000e+01,   1.80000000e+01,   6.00000000e+00,\n",
       "          9.00000000e+00,   1.70000000e+01,   2.10000000e+01,\n",
       "          9.70000000e+01,   4.88000000e-01,   4.43000000e-01,\n",
       "          4.89000000e-01,   2.95000000e-01,   2.83000000e+01,\n",
       "          7.89000000e+01,   5.12000000e+01,   5.63000000e+01,\n",
       "          6.10000000e+00,   1.53000000e+01,   1.46000000e+01,\n",
       "          1.00000000e+02,   9.80000000e+01,   1.13200000e+02],\n",
       "       [  2.40000000e+02,   3.30000000e+01,   8.20000000e+01,\n",
       "          1.50000000e+01,   3.90000000e+01,   2.00000000e+01,\n",
       "          2.90000000e+01,   9.00000000e+00,   2.60000000e+01,\n",
       "          3.50000000e+01,   1.90000000e+01,   5.00000000e+00,\n",
       "          3.00000000e+00,   1.40000000e+01,   2.50000000e+01,\n",
       "          1.01000000e+02,   5.33000000e-01,   4.94000000e-01,\n",
       "          4.76000000e-01,   3.54000000e-01,   1.96000000e+01,\n",
       "          7.65000000e+01,   4.38000000e+01,   5.76000000e+01,\n",
       "          5.30000000e+00,   6.00000000e+00,   1.29000000e+01,\n",
       "          1.00000000e+02,   1.07500000e+02,   1.22500000e+02],\n",
       "       [  2.40000000e+02,   3.20000000e+01,   8.30000000e+01,\n",
       "          1.50000000e+01,   4.10000000e+01,   1.00000000e+01,\n",
       "          1.30000000e+01,   7.00000000e+00,   3.20000000e+01,\n",
       "          3.90000000e+01,   2.20000000e+01,   7.00000000e+00,\n",
       "          5.00000000e+00,   1.00000000e+01,   2.30000000e+01,\n",
       "          8.90000000e+01,   5.02000000e-01,   4.76000000e-01,\n",
       "          4.94000000e-01,   1.57000000e-01,   1.52000000e+01,\n",
       "          7.80000000e+01,   4.48000000e+01,   6.88000000e+01,\n",
       "          7.70000000e+00,   8.80000000e+00,   1.01000000e+01,\n",
       "          1.00000000e+02,   9.81000000e+01,   1.02500000e+02]])"
      ]
     },
     "execution_count": 53,
     "metadata": {},
     "output_type": "execute_result"
    }
   ],
   "source": [
    "ntry"
   ]
  },
  {
   "cell_type": "code",
   "execution_count": 54,
   "metadata": {
    "collapsed": false
   },
   "outputs": [
    {
     "data": {
      "text/plain": [
       "array([ 240.        ,   32.33333333,   84.33333333,   14.66666667,\n",
       "         41.        ,   16.33333333,   22.66666667,    9.66666667,\n",
       "         29.33333333,   39.        ,   19.66666667,    6.        ,\n",
       "          5.66666667,   13.66666667,   23.        ,   95.66666667,\n",
       "          0.50766667,    0.471     ,    0.48633333,    0.26866667,\n",
       "         21.03333333,   77.8       ,   46.6       ,   60.9       ,\n",
       "          6.36666667,   10.03333333,   12.53333333,  100.        ,\n",
       "        101.2       ,  112.73333333])"
      ]
     },
     "execution_count": 54,
     "metadata": {},
     "output_type": "execute_result"
    }
   ],
   "source": [
    "numpy.mean(ntry,axis = 0)"
   ]
  },
  {
   "cell_type": "code",
   "execution_count": 60,
   "metadata": {
    "collapsed": false
   },
   "outputs": [
    {
     "ename": "ValueError",
     "evalue": "shapes (2,30) and (2,) not aligned: 30 (dim 1) != 2 (dim 0)",
     "output_type": "error",
     "traceback": [
      "\u001b[0;31m---------------------------------------------------------------------------\u001b[0m",
      "\u001b[0;31mValueError\u001b[0m                                Traceback (most recent call last)",
      "\u001b[0;32m<ipython-input-60-8bec418f3213>\u001b[0m in \u001b[0;36m<module>\u001b[0;34m()\u001b[0m\n\u001b[0;32m----> 1\u001b[0;31m \u001b[0mnumpy\u001b[0m\u001b[0;34m.\u001b[0m\u001b[0mdot\u001b[0m\u001b[0;34m(\u001b[0m\u001b[0mntry\u001b[0m\u001b[0;34m[\u001b[0m\u001b[0;34m-\u001b[0m\u001b[0;36m2\u001b[0m\u001b[0;34m:\u001b[0m\u001b[0;34m]\u001b[0m\u001b[0;34m,\u001b[0m\u001b[0;34m[\u001b[0m\u001b[0;36m1\u001b[0m\u001b[0;34m,\u001b[0m\u001b[0;36m2\u001b[0m\u001b[0;34m]\u001b[0m\u001b[0;34m)\u001b[0m\u001b[0;31m#[[1],[2]]\u001b[0m\u001b[0;34m\u001b[0m\u001b[0m\n\u001b[0m",
      "\u001b[0;31mValueError\u001b[0m: shapes (2,30) and (2,) not aligned: 30 (dim 1) != 2 (dim 0)"
     ]
    }
   ],
   "source": [
    "numpy.dot(ntry[-2:],[1,2])#[[1],[2]]"
   ]
  },
  {
   "cell_type": "code",
   "execution_count": 61,
   "metadata": {
    "collapsed": true
   },
   "outputs": [],
   "source": [
    "def ta():\n",
    "    return 1,2"
   ]
  },
  {
   "cell_type": "code",
   "execution_count": 62,
   "metadata": {
    "collapsed": true
   },
   "outputs": [],
   "source": [
    "a = ta()"
   ]
  },
  {
   "cell_type": "code",
   "execution_count": 63,
   "metadata": {
    "collapsed": false
   },
   "outputs": [
    {
     "data": {
      "text/plain": [
       "(1, 2)"
      ]
     },
     "execution_count": 63,
     "metadata": {},
     "output_type": "execute_result"
    }
   ],
   "source": [
    "a"
   ]
  },
  {
   "cell_type": "code",
   "execution_count": 72,
   "metadata": {
    "collapsed": false
   },
   "outputs": [
    {
     "ename": "IndexError",
     "evalue": "axis 1 out of bounds [0, 1)",
     "output_type": "error",
     "traceback": [
      "\u001b[0;31m---------------------------------------------------------------------------\u001b[0m",
      "\u001b[0;31mIndexError\u001b[0m                                Traceback (most recent call last)",
      "\u001b[0;32m<ipython-input-72-9721d1bb22b6>\u001b[0m in \u001b[0;36m<module>\u001b[0;34m()\u001b[0m\n\u001b[1;32m      1\u001b[0m \u001b[0ma\u001b[0m \u001b[0;34m=\u001b[0m \u001b[0mnumpy\u001b[0m\u001b[0;34m.\u001b[0m\u001b[0mrandom\u001b[0m\u001b[0;34m.\u001b[0m\u001b[0mrandint\u001b[0m\u001b[0;34m(\u001b[0m\u001b[0;36m1\u001b[0m\u001b[0;34m,\u001b[0m\u001b[0msize\u001b[0m \u001b[0;34m=\u001b[0m \u001b[0;34m(\u001b[0m\u001b[0;36m1081\u001b[0m\u001b[0;34m,\u001b[0m \u001b[0;34m)\u001b[0m\u001b[0;34m)\u001b[0m\u001b[0;34m\u001b[0m\u001b[0m\n\u001b[1;32m      2\u001b[0m \u001b[0mb\u001b[0m \u001b[0;34m=\u001b[0m \u001b[0mnumpy\u001b[0m\u001b[0;34m.\u001b[0m\u001b[0mrandom\u001b[0m\u001b[0;34m.\u001b[0m\u001b[0mrandint\u001b[0m\u001b[0;34m(\u001b[0m\u001b[0;36m1\u001b[0m\u001b[0;34m,\u001b[0m\u001b[0msize\u001b[0m \u001b[0;34m=\u001b[0m \u001b[0;34m(\u001b[0m\u001b[0;36m1081\u001b[0m\u001b[0;34m,\u001b[0m \u001b[0;34m)\u001b[0m\u001b[0;34m)\u001b[0m\u001b[0;34m\u001b[0m\u001b[0m\n\u001b[0;32m----> 3\u001b[0;31m \u001b[0mc\u001b[0m \u001b[0;34m=\u001b[0m \u001b[0mnumpy\u001b[0m\u001b[0;34m.\u001b[0m\u001b[0mconcatenate\u001b[0m\u001b[0;34m(\u001b[0m\u001b[0;34m(\u001b[0m\u001b[0ma\u001b[0m\u001b[0;34m,\u001b[0m\u001b[0mb\u001b[0m\u001b[0;34m)\u001b[0m\u001b[0;34m,\u001b[0m\u001b[0maxis\u001b[0m\u001b[0;34m=\u001b[0m\u001b[0;36m1\u001b[0m\u001b[0;34m)\u001b[0m\u001b[0;34m\u001b[0m\u001b[0m\n\u001b[0m\u001b[1;32m      4\u001b[0m \u001b[0mprint\u001b[0m\u001b[0;34m(\u001b[0m\u001b[0ma\u001b[0m\u001b[0;34m.\u001b[0m\u001b[0mshape\u001b[0m\u001b[0;34m)\u001b[0m\u001b[0;34m\u001b[0m\u001b[0m\n\u001b[1;32m      5\u001b[0m \u001b[0mprint\u001b[0m\u001b[0;34m(\u001b[0m\u001b[0mc\u001b[0m\u001b[0;34m.\u001b[0m\u001b[0mshape\u001b[0m\u001b[0;34m)\u001b[0m\u001b[0;34m\u001b[0m\u001b[0m\n",
      "\u001b[0;31mIndexError\u001b[0m: axis 1 out of bounds [0, 1)"
     ]
    }
   ],
   "source": [
    "a = numpy.random.randint(1,size = (1081, ))\n",
    "b = numpy.random.randint(1,size = (1081, ))\n",
    "c = numpy.concatenate((a,b),axis=1)\n",
    "print(a.shape)\n",
    "print(c.shape)"
   ]
  },
  {
   "cell_type": "code",
   "execution_count": 68,
   "metadata": {
    "collapsed": false
   },
   "outputs": [],
   "source": []
  },
  {
   "cell_type": "code",
   "execution_count": null,
   "metadata": {
    "collapsed": true
   },
   "outputs": [],
   "source": []
  }
 ],
 "metadata": {
  "anaconda-cloud": {},
  "kernelspec": {
   "display_name": "Python [conda root]",
   "language": "python",
   "name": "conda-root-py"
  },
  "language_info": {
   "codemirror_mode": {
    "name": "ipython",
    "version": 3
   },
   "file_extension": ".py",
   "mimetype": "text/x-python",
   "name": "python",
   "nbconvert_exporter": "python",
   "pygments_lexer": "ipython3",
   "version": "3.5.2"
  }
 },
 "nbformat": 4,
 "nbformat_minor": 1
}
