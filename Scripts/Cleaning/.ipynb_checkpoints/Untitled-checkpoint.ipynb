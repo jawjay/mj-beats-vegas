{
 "cells": [
  {
   "cell_type": "code",
   "execution_count": 7,
   "metadata": {
    "collapsed": true
   },
   "outputs": [],
   "source": [
    "import pickle\n",
    "import numpy as np\n",
    "import pandas as pd"
   ]
  },
  {
   "cell_type": "code",
   "execution_count": 4,
   "metadata": {
    "collapsed": true
   },
   "outputs": [],
   "source": [
    "basic = ['NAME','MP','FG','FGA','FGP','TP','TPA',\n",
    "                    'TPP','FT','FTA','FTP','ORB','DRB','TRB',\n",
    "                    'AST','STL','BLK','TOV','PF','PTS','PM']\n",
    "\n",
    "advanced = ['NAME','MP','TSP','eFGP','TPAr',\n",
    "                            'FTr','ORBP','DRBP','TRBP','ASTP','STLP',\n",
    "                            'BLKP','TOVP','USGP','ORtg','DRtg']\n",
    "\n",
    "                            \n",
    "team_names = ['atl', 'bos', 'brk', 'chi', 'cho', 'cle', 'dal', 'den', 'det',\n",
    "             'gsw', 'hou', 'ind', 'lac', 'lal', 'mem', 'mia', 'mil', 'min', \n",
    "             'nop', 'nyk', 'okc', 'orl', 'phi', 'pho', 'por', 'sac', 'sas', \n",
    "             'tor', 'uta', 'was']\n"
   ]
  },
  {
   "cell_type": "code",
   "execution_count": 8,
   "metadata": {
    "collapsed": false
   },
   "outputs": [],
   "source": [
    "with open('results_2015.pkl','rb') as handle:\n",
    "    results = pickle.load(handle)"
   ]
  },
  {
   "cell_type": "code",
   "execution_count": 26,
   "metadata": {
    "collapsed": false
   },
   "outputs": [],
   "source": [
    "\n",
    "class Team():\n",
    "    def __init__(self,name=\"none\"):\n",
    "        self.record = [(0,0)]\n",
    "        self.gamestats = []\n",
    "        self.opponents = []\n",
    "        self.games = []\n",
    "        self.name = name\n",
    "    def addWin(self,win):\n",
    "        if win:\n",
    "            self.record.append((self.record[-1][0]+1,self.record[-1][1]))\n",
    "        else:\n",
    "            self.record.append((self.record[-1][0],self.record[-1][1]+1))\n",
    "    def addGame(self,name,stats):\n",
    "        self.gamestats.append(stats)\n",
    "        self.games.append(name)\n",
    "    def __str__(self):\n",
    "        return str(self.name)+\":\"+str(self.record[-1])\n"
   ]
  },
  {
   "cell_type": "code",
   "execution_count": 29,
   "metadata": {
    "collapsed": false
   },
   "outputs": [
    {
     "name": "stdout",
     "output_type": "stream",
     "text": [
      "phi:(10, 72)\n",
      "bos:(50, 38)\n",
      "cho:(51, 37)\n",
      "por:(48, 40)\n",
      "cle:(61, 25)\n",
      "orl:(35, 47)\n",
      "tor:(59, 29)\n",
      "det:(44, 42)\n",
      "uta:(40, 42)\n",
      "nop:(30, 52)\n",
      "sac:(33, 49)\n",
      "den:(33, 49)\n",
      "sas:(72, 15)\n",
      "mia:(51, 37)\n",
      "lal:(17, 65)\n",
      "gsw:(77, 10)\n",
      "min:(29, 53)\n",
      "mil:(33, 49)\n",
      "ind:(48, 40)\n",
      "chi:(42, 40)\n",
      "lac:(55, 33)\n",
      "was:(41, 41)\n",
      "atl:(52, 36)\n",
      "brk:(21, 61)\n",
      "okc:(59, 29)\n",
      "dal:(43, 44)\n",
      "nyk:(32, 50)\n",
      "mem:(42, 44)\n",
      "pho:(23, 59)\n",
      "hou:(42, 45)\n"
     ]
    }
   ],
   "source": [
    "testing_games = ['201603180DAL','201603280POR','201511170NYK']\n",
    "\n",
    "teams={x:Team(x) for x in team_names}\n",
    "for game in results:\n",
    "    home = results[game]['home']\n",
    "    away = results[game]['away']\n",
    "    hscore,ascore = int(results[game]['home_basic'][-1]),int(results[game]['away_basic'][-1])\n",
    "            \n",
    "    home_stats = results[game]['home_advanced'][2:]\n",
    "    away_stats = results[game]['away_advanced'][2:]\n",
    "    \n",
    "    teams[home].addWin(hscore>ascore)\n",
    "    teams[away].addWin(ascore>hscore)\n",
    "    teams[home].addGame(game,home_stats)\n",
    "    teams[away].addGame(game,away_stats)\n",
    "\n",
    "    \n",
    "for t in teams:\n",
    "    print(teams[t])"
   ]
  },
  {
   "cell_type": "code",
   "execution_count": null,
   "metadata": {
    "collapsed": true
   },
   "outputs": [],
   "source": []
  }
 ],
 "metadata": {
  "anaconda-cloud": {},
  "kernelspec": {
   "display_name": "Python [conda root]",
   "language": "python",
   "name": "conda-root-py"
  },
  "language_info": {
   "codemirror_mode": {
    "name": "ipython",
    "version": 3
   },
   "file_extension": ".py",
   "mimetype": "text/x-python",
   "name": "python",
   "nbconvert_exporter": "python",
   "pygments_lexer": "ipython3",
   "version": "3.5.2"
  }
 },
 "nbformat": 4,
 "nbformat_minor": 1
}
