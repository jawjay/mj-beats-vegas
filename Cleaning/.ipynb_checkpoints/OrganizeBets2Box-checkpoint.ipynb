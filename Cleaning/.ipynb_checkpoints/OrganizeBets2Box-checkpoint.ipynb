{
 "cells": [
  {
   "cell_type": "code",
   "execution_count": 17,
   "metadata": {
    "collapsed": false
   },
   "outputs": [],
   "source": [
    "import pickle\n",
    "import numpy as np\n",
    "import pandas as pd\n",
    "import organizeOU\n",
    "from collections import Counter,defaultdict\n",
    "import boxScoreHelper"
   ]
  },
  {
   "cell_type": "code",
   "execution_count": 36,
   "metadata": {
    "collapsed": false,
    "scrolled": true
   },
   "outputs": [],
   "source": [
    "\n",
    "def readGames(year = '2014'):\n",
    "    # need to convert CHA to CHO\n",
    "    with open('../Data/ou/allOU2U.pkl','rb') as handle:\n",
    "        ouResults = pickle.load(handle)\n",
    "    glres = ouResults[year]\n",
    "    with open('../Data/Clean/TeamBoxByYear/results_{0}.pkl'.format(year),'rb') as handle:\n",
    "            bbres = pickle.load(handle)\n",
    "    \n",
    "    return glres,bbres\n"
   ]
  },
  {
   "cell_type": "code",
   "execution_count": 111,
   "metadata": {
    "collapsed": false
   },
   "outputs": [],
   "source": [
    "def line2tuple(res):\n",
    "    out = {}\n",
    "    for game in res:\n",
    "        h,a = game[-3:],organizeOU.full2abv[res[game][0]]\n",
    "        out[game] = (h,a,res[game][1])\n",
    "    return out\n",
    "def box2tuple(res):\n",
    "    out = {}\n",
    "    fixCHO = lambda x:'CHA' if x=='CHO' else x\n",
    "    for game in sorted(res):\n",
    "        cgame = res[game]\n",
    "        fscore = boxScoreHelper.getFinalScore(cgame)\n",
    "        h,a = fixCHO(cgame[\"away\"].upper()),fixCHO(cgame[\"home\"].upper())\n",
    "        out[game] = (h,a,fscore)\n",
    "    return out\n",
    "def bb2teamList(bb):\n",
    "    games_ordered = []\n",
    "    games_byteam = defaultdict(list)\n",
    "    fixCHO = lambda x:'CHA' if x=='CHO' else x\n",
    "    for game in sorted(bb):\n",
    "        cgame = bb[game]\n",
    "        fscore = boxScoreHelper.getFinalScore(cgame)\n",
    "        h,a = fixCHO(cgame[\"away\"].upper()),fixCHO(cgame[\"home\"].upper())\n",
    "        team = fixCHO(game[-3:])\n",
    "        games_byteam[team].append((h,a,fscore,game))\n",
    "    return games_byteam\n",
    "\n",
    "\n",
    "def sortGames(year='2014',need_check = False,fixdict = {'BRK':'NJN','OKC':'SEA','NOP':'NOH','CHA':'CHO'}):\n",
    "    ''' Return betting id to bbref id\n",
    "    '''\n",
    "    if year == '2006':\n",
    "        fixdict = {'BRK':'NJN','OKC':'SEA','NOP':'NOK'}\n",
    "    gl,bb = readGames(year)\n",
    "    bbteams = bb2teamList(bb)\n",
    "    '''\n",
    "    - Read through sorted games\n",
    "        -keep sorted list of home team\n",
    "        - keep sorted list of teams games in dict\n",
    "    - loop through sorted list of home teams\n",
    "        - get games from sorted home list\n",
    "    '''\n",
    "    teamCounter = defaultdict(int)\n",
    "    outdict = {}\n",
    "    \n",
    "    for game in sorted(gl):\n",
    "        team = game[-3:]\n",
    "        i = teamCounter[team]\n",
    "        teamCounter[team] += 1\n",
    "        try:\n",
    "            \n",
    "            bbid = bbteams[team][i]\n",
    "        except IndexError:\n",
    "            try:\n",
    "                \n",
    "                if team in fixdict:\n",
    "                    team = fixdict[team]\n",
    "                bbid = bbteams[team][i]\n",
    "            except IndexError:\n",
    "                print(\"Index Error:  \",team,year)\n",
    "        outdict[game] = bbid \n",
    "    if need_check == False:\n",
    "        return {game:outdict[game][-1] for game in outdict}\n",
    "    \n",
    "    gans = line2tuple(gl)\n",
    "    bans = box2tuple(bb)    \n",
    "    working = all( (gans[i][0]==bans[outdict[i][-1]][0] for i in outdict ))\n",
    "\n",
    "    print(\"Games appear to be matched up: \",working)\n",
    "\n",
    "    #dictionary of betting games to bbgames\n",
    "    return {game:outdict[game][-1] for game in outdict}\n",
    "\n",
    "\n",
    "\n",
    "\n",
    "\n",
    "\n",
    "# print(\"X: \",x)\n"
   ]
  },
  {
   "cell_type": "code",
   "execution_count": 112,
   "metadata": {
    "collapsed": false
   },
   "outputs": [],
   "source": [
    "\n",
    "for i in range(2006,2015):\n",
    "    if i == 2006:\n",
    "        sortGames(str(i))\n",
    "    else:\n",
    "        sortGames(str(i))"
   ]
  },
  {
   "cell_type": "code",
   "execution_count": null,
   "metadata": {
    "collapsed": false
   },
   "outputs": [],
   "source": []
  },
  {
   "cell_type": "code",
   "execution_count": null,
   "metadata": {
    "collapsed": true
   },
   "outputs": [],
   "source": []
  }
 ],
 "metadata": {
  "anaconda-cloud": {},
  "kernelspec": {
   "display_name": "Python [conda root]",
   "language": "python",
   "name": "conda-root-py"
  },
  "language_info": {
   "codemirror_mode": {
    "name": "ipython",
    "version": 3
   },
   "file_extension": ".py",
   "mimetype": "text/x-python",
   "name": "python",
   "nbconvert_exporter": "python",
   "pygments_lexer": "ipython3",
   "version": "3.5.2"
  }
 },
 "nbformat": 4,
 "nbformat_minor": 1
}
